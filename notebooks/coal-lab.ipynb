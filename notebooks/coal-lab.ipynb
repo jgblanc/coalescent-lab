{
 "cells": [
  {
   "cell_type": "markdown",
   "metadata": {},
   "source": [
    "# Human Variation and Diesase Coalescent Computer Lab\n",
    "test edit\n",
    "---"
   ]
  },
  {
   "cell_type": "markdown",
   "metadata": {},
   "source": [
    "Welcome to the coalescent computer lab! Here we'll explore some fundamentals of the coalescent using exploratory data analysis (i.e. computing summary statistics / visualization) and simulation. We'll learn about & employ a powerful coalescent simulator called `msprime`, which allows us to efficiently generate genealogies under a given demography and subsequently sprinkle mutations on these genealogies to generate sequence data. Coalescent simulation is a very important tool to be equipped with for the modern population geneticist for a number of reasons...\n",
    "\n",
    "* It allows us to develop intuition for a simple generative model that can help to explain patterns in real data\n",
    "* We can use simulations to compare the accuracy of methods and see where they break down or succeed\n",
    "* Simulation can be used in inference, for instance to obtain monte carlo estimates for particular steps of a intractable model or perform approximate Bayesian inference (ABC)\n",
    "\n",
    "A quick note about computing: The environment we are in is called a `jupyter notebook`. A `jupyter notebook` is an interactive computational portal that allows us to make documents that combine simple text formats (markdown / latex) and code. This is quite powerful as we can write up analyses and explorations in the notebook and annotate visualizations & code with text and even math. Jupyter is primarily geared for `python` but one can actually change the \"kernel\" of the notebook to use `R` and even `julia`. Today we'll actually be using a very interesting python package called `rpy2` which allows us to run `R` commands in a `python` “kernel”. We can even pass objects created in python into an `R` code block. How this works will become more clear as we get started. \n",
    "\n",
    "Alright, now let us begin by importing various libraries that we'll be using in this notebook!"
   ]
  },
  {
   "cell_type": "markdown",
   "metadata": {},
   "source": [
    "## Imports / Configuration"
   ]
  },
  {
   "cell_type": "markdown",
   "metadata": {},
   "source": [
    "Here we load a jupyter extension that allows us to use `rpy2` to pass objects back and forth between `R` and `python` code blocks. "
   ]
  },
  {
   "cell_type": "code",
   "execution_count": null,
   "metadata": {},
   "outputs": [],
   "source": [
    "%load_ext rpy2.ipython"
   ]
  },
  {
   "cell_type": "markdown",
   "metadata": {},
   "source": [
    "This is how we import packages in python. `numpy` is a python package for creating, manipulating and operating on arrays. As we mentioned previously, `msprime` is a python package for performing coalescent simulations. It expands upon [Dick Hudson's](http://home.uchicago.edu/rhudson1/), a UChicago professor and coalescent pioneer, `ms` software. "
   ]
  },
  {
   "cell_type": "code",
   "execution_count": 1,
   "metadata": {},
   "outputs": [],
   "source": [
    "import numpy as np\n",
    "import msprime "
   ]
  },
  {
   "cell_type": "markdown",
   "metadata": {},
   "source": [
    "Here is a quick example of how we can pass python objects into `R`. Lets first create a simple matrix $\\mathbf{A}$ "
   ]
  },
  {
   "cell_type": "code",
   "execution_count": null,
   "metadata": {},
   "outputs": [],
   "source": [
    "A = np.array([[1,2], [3, 4]])\n",
    "A"
   ]
  },
  {
   "cell_type": "markdown",
   "metadata": {},
   "source": [
    "Lets now import $\\mathbf{A}$ into `R`. To use `R` run the `%%R` command in the top of the code block ..."
   ]
  },
  {
   "cell_type": "code",
   "execution_count": null,
   "metadata": {},
   "outputs": [],
   "source": [
    "%%R -i A\n",
    "A"
   ]
  },
  {
   "cell_type": "markdown",
   "metadata": {},
   "source": [
    "Cool! That seems to work. Lets try making simple plot ..."
   ]
  },
  {
   "cell_type": "code",
   "execution_count": null,
   "metadata": {},
   "outputs": [],
   "source": [
    "%%R\n",
    "library(ggplot2)\n",
    "qplot(rnorm(1000))"
   ]
  },
  {
   "cell_type": "markdown",
   "metadata": {},
   "source": [
    "We are now equipped to run the rest of the notebook ..."
   ]
  },
  {
   "cell_type": "markdown",
   "metadata": {},
   "source": [
    "## A \"fishy\" population genetics mystery"
   ]
  },
  {
   "cell_type": "markdown",
   "metadata": {},
   "source": [
    "Suppose you are hired as a consultant for the local fisheries agency. They have decided they'd like to track the genetic diversity of the *strange and quite rare* haploid salmon population to help inform conservation efforts on this important species. They give ***you*** a genomic dataset that was generated from $n=50$ individuals in $r=100$ independent non-recombining regions of the salmon genome each of length $\\ell=5000 \\ bp$. The  dataset they give you is a genotype matrix where the rows represent each haploid individual and the columns represent different genetic variants."
   ]
  },
  {
   "cell_type": "code",
   "execution_count": null,
   "metadata": {},
   "outputs": [],
   "source": [
    "G = np.load(\"../data/genotype_matrix.npy\")\n",
    "G"
   ]
  },
  {
   "cell_type": "markdown",
   "metadata": {},
   "source": [
    "---"
   ]
  },
  {
   "cell_type": "markdown",
   "metadata": {},
   "source": [
    "In `python` or `R` (*your choice*) visualize the genotype matrix and write four functions that take in `G` as an argument to compute some classic coalescent summary statistics ...\n",
    "\n",
    "* visualize the genotype matrix\n",
    "* nucleotide diversity $\\pi$\n",
    "* the number of segregating sites $S$\n",
    "* the site frequency spectrum $(\\zeta_1, \\zeta_2, \\dots, \\zeta_n)$ "
   ]
  },
  {
   "cell_type": "code",
   "execution_count": null,
   "metadata": {},
   "outputs": [],
   "source": [
    "%%R -i G\n",
    "# R code goes here"
   ]
  },
  {
   "cell_type": "code",
   "execution_count": null,
   "metadata": {},
   "outputs": [],
   "source": [
    "# python code goes here"
   ]
  },
  {
   "cell_type": "markdown",
   "metadata": {},
   "source": [
    "Given your estimate of $\\pi$ and $S$ compute Tajima's $D$ and plot the SFS ..."
   ]
  },
  {
   "cell_type": "code",
   "execution_count": null,
   "metadata": {},
   "outputs": [],
   "source": [
    "%%R\n",
    "# R code for computations and plots go here"
   ]
  },
  {
   "cell_type": "code",
   "execution_count": null,
   "metadata": {},
   "outputs": [],
   "source": [
    "# python code for computations and plots go here"
   ]
  },
  {
   "cell_type": "markdown",
   "metadata": {},
   "source": [
    "What do these tell you about the salmon population demographics (specifically the population size)?"
   ]
  },
  {
   "cell_type": "markdown",
   "metadata": {},
   "source": [
    "---"
   ]
  },
  {
   "cell_type": "markdown",
   "metadata": {},
   "source": [
    "Now that you have some preliminary summaries of the data you decide you want to gain some more insight into the demographic history of the salmon population. The coalescent provides us with a powerful link between demographic history and the observed genetic data. Let’s take some time to learn about `msprime` to make this link more clear ..."
   ]
  },
  {
   "cell_type": "markdown",
   "metadata": {},
   "source": [
    "## Coalescent simulation using `msprime`"
   ]
  },
  {
   "cell_type": "markdown",
   "metadata": {},
   "source": [
    "Read and explore up to the \"demographic events\" section in this really nice [jupyter notebook](https://github.com/jhmarcus/spg-chapter/) written by [Jerome Kelleher](https://github.com/jeromekelleher), the author of `msprime`. Click the launch binder button at the bottom of the page. We strongly encourage you to change parameters in the notebook and build intuition on how that affects properties of coalescent trees and see how it matches your predictions from the theory we've learned in class."
   ]
  },
  {
   "cell_type": "markdown",
   "metadata": {},
   "source": [
    "## Writing your own coalescent simulations"
   ]
  },
  {
   "cell_type": "markdown",
   "metadata": {},
   "source": [
    "You made some inference by looking at summary statistics of the genotype matrix provided by the fisheries agency. Let’s take it a step further and actually write a coalescent simulation that will generate results that match the summary statistics you computed previously. "
   ]
  },
  {
   "cell_type": "markdown",
   "metadata": {},
   "source": [
    "---"
   ]
  },
  {
   "cell_type": "markdown",
   "metadata": {},
   "source": [
    "Adapting code from Jerome's statistical genetics chapter write a `python` function that takes in simulation parameters needed as arguments and outputs a genotype matrix. Using this function simulate a few genotype matrices under different fixed demographic parameters and compute \"coalescent\" summary statistics on these matrices. See if you can generate summary statistics that look similar to the ones computed for the observed dataset. Come up with a reasonable measure for similarity and use it for a quantitative comparison. Remember to include the region length $\\ell$, the number of non-recombining regions $r$, and assume that, from a previous comparative genomics study, the per bp mutation rate in the salmon species is $1 \\times 10^{-5}$"
   ]
  },
  {
   "cell_type": "code",
   "execution_count": null,
   "metadata": {},
   "outputs": [],
   "source": [
    "# your python code goes here"
   ]
  },
  {
   "cell_type": "code",
   "execution_count": null,
   "metadata": {},
   "outputs": [],
   "source": [
    "%%R -i G_0,G_1,G_2\n",
    "# your R code goes here"
   ]
  },
  {
   "cell_type": "markdown",
   "metadata": {},
   "source": [
    "What parameter settings qualitatively \"fit the data\" the best? Simulate many replicates of genotype matrices for each parameter setting and plot histograms of the summary statistics (we can't easily plot a histogram of the multiple realizations of the SFS so just show a few examples from the different replicates). How much variability is there in these histograms / where does that variability come from?"
   ]
  },
  {
   "cell_type": "code",
   "execution_count": null,
   "metadata": {},
   "outputs": [],
   "source": [
    "# your python code goes here"
   ]
  },
  {
   "cell_type": "code",
   "execution_count": null,
   "metadata": {},
   "outputs": [],
   "source": [
    "%%R -i thetas,pis,ds\n",
    "# your R code goes here"
   ]
  },
  {
   "cell_type": "markdown",
   "metadata": {},
   "source": [
    "---"
   ]
  },
  {
   "cell_type": "markdown",
   "metadata": {},
   "source": [
    "For those that finish early, continue reading the rest of the [simulation](https://github.com/jhmarcus/spg-chapter/)  tutorial to learn how to simulate genetic data under more complicated demographic histories and the coalescent with recombination. Also check out the [inference example](https://github.com/jhmarcus/spg-chapter/blob/master/jupyter/inference-example.ipynb) in the statistical genetics chapter."
   ]
  }
 ],
 "metadata": {
  "kernelspec": {
   "display_name": "Python 3",
   "language": "python",
   "name": "python3"
  },
  "language_info": {
   "codemirror_mode": {
    "name": "ipython",
    "version": 3
   },
   "file_extension": ".py",
   "mimetype": "text/x-python",
   "name": "python",
   "nbconvert_exporter": "python",
   "pygments_lexer": "ipython3",
   "version": "3.7.3"
  }
 },
 "nbformat": 4,
 "nbformat_minor": 2
}
